{
  "nbformat": 4,
  "nbformat_minor": 0,
  "metadata": {
    "colab": {
      "provenance": []
    },
    "kernelspec": {
      "name": "python3",
      "display_name": "Python 3"
    },
    "language_info": {
      "name": "python"
    }
  },
  "cells": [
    {
      "cell_type": "markdown",
      "source": [
        "#Question 1\n",
        "\n",
        "Is it OK to initialize all the weights to the same value as long as that value is selected randomly using He initialization?\n",
        "\n",
        "..............\n",
        "\n",
        "Answer 1 -\n",
        "\n",
        "Initializing all the weights to the same value, even if that value is selected randomly using He initialization, is not recommended for deep neural networks. While He initialization is a good choice to ensure that the weights are initialized to appropriate values, the key idea is to introduce diversity and break symmetry among the neurons. Initializing all weights to the same value would not achieve this diversity.\n",
        "\n",
        "Here's why initializing all weights to the same value is not ideal:\n",
        "\n",
        "1) **Symmetry Breaking** : The purpose of weight initialization is to break the symmetry among neurons in the same layer. If all weights are initialized to the same value, even a random value, it effectively means that the neurons are initially identical, which can lead to them learning the same features and not contributing diversity to the network.\n",
        "\n",
        "2) **Diversity of Neurons** : In a deep neural network, you want each neuron to learn different features or representations from the data. This diversity helps the network capture complex patterns and relationships. Initializing weights with different random values helps in achieving this diversity.\n",
        "\n",
        "3) **Avoiding Vanishing Gradients** : He initialization specifically scales the weights based on the number of input units to the neuron. This scaling helps in avoiding the vanishing gradient problem during training. If all weights are set to the same value, this scaling would be lost, potentially leading to convergence issues.\n",
        "\n",
        "4) **Improved Training** : Diverse weight initialization encourages neurons to start learning different features from the beginning of training. This can lead to faster convergence and better generalization."
      ],
      "metadata": {
        "id": "Pcjnx1otJow-"
      }
    },
    {
      "cell_type": "markdown",
      "source": [
        "#Question 2\n",
        "\n",
        "Is it OK to initialize the bias terms to 0?\n",
        "\n",
        "...............\n",
        "\n",
        "Answer 2 -\n",
        "\n",
        "Yes, it is generally acceptable to initialize the bias terms to 0. However, it is important to note that other values may result in better performance, depending on the type of model and data."
      ],
      "metadata": {
        "id": "aWbL-0pCPgWc"
      }
    },
    {
      "cell_type": "markdown",
      "source": [
        "#Question 3\n",
        "\n",
        "Name three advantages of the SELU activation function over ReLU.\n",
        "\n",
        "..............\n",
        "\n",
        "Answer 3 -\n",
        "\n",
        "The Scaled Exponential Linear Unit (SELU) activation function offers several advantages over the Rectified Linear Unit (ReLU) activation function. Here are three key advantages of SELU:\n",
        "\n",
        "1) **Self-Normalization** : SELU activations are designed to promote self-normalization in deep neural networks. This means that in a properly configured network, the activations tend to converge toward a mean of 0 and a standard deviation of 1 during training. This self-normalizing property mitigates the vanishing and exploding gradient problems, making it easier to train very deep networks.\n",
        "\n",
        "2) **Avoidance of Dead Neurons** : SELU activations are less prone to the \"dying ReLU\" problem, which occurs when neurons become inactive and never activate again during training. The dying ReLU problem can hinder network expressiveness. SELU's self-normalization properties prevent this issue and help maintain non-zero activations for most neurons throughout training.\n",
        "\n",
        "3) **Improved Generalization** : SELU has been shown to improve the generalization performance of deep neural networks. This means that models using SELU activations tend to generalize better to unseen data, potentially leading to better test accuracy."
      ],
      "metadata": {
        "id": "qnn3TMM7Qk03"
      }
    },
    {
      "cell_type": "markdown",
      "source": [
        "#Question 4\n",
        "\n",
        "In which cases would you want to use each of the following activation functions: SELU, leaky ReLU (and its variants), ReLU, tanh, logistic, and softmax?\n",
        "\n",
        "...............\n",
        "\n",
        "Answer 4 -\n",
        "\n",
        "The choice of activation functions in neural networks depends on the specific characteristics of your problem, the architecture of your network, and the behavior you want to achieve. Here's a general guideline for when to use different activation functions:\n",
        "\n",
        "1) **SELU (Scaled Exponential Linear Unit)** :\n",
        "\n",
        "- Use SELU when you have a deep neural network (many layers) and you want to take advantage of its self-normalization properties.\n",
        "\n",
        "- Suitable for feedforward networks with many hidden layers.\n",
        "\n",
        "- Requires specific initialization (LeCun initialization) and architecture (no skip connections).\n",
        "\n",
        "2) **Leaky ReLU and its Variants (e.g., Parametric ReLU, Exponential Linear Unit - ELU)** :\n",
        "\n",
        "- Use Leaky ReLU or its variants when you want to address the \"dying ReLU\" problem and allow a small gradient for negative inputs.\n",
        "\n",
        "- Particularly useful when you have a deeper network and you want to mitigate the issue of neurons becoming inactive.\n",
        "\n",
        "- Leaky ReLU variants like Parametric ReLU and ELU offer different slopes and behaviors for negative inputs, providing flexibility in model learning.\n",
        "\n",
        "3) **ReLU (Rectified Linear Unit)** :\n",
        "\n",
        "- Use ReLU as a default choice for many hidden layers when training deep neural networks.\n",
        "\n",
        "- It's computationally efficient and helps in alleviating the vanishing gradient problem.\n",
        "\n",
        "- However, be cautious about the dying ReLU problem, especially when dealing with very deep networks.\n",
        "\n",
        "4) **Tanh (Hyperbolic Tangent)** :\n",
        "\n",
        "- Use tanh when you want to squash activations between -1 and 1.\n",
        "\n",
        "- It's often used in recurrent neural networks (RNNs) and convolutional neural networks (CNNs) for image processing.\n",
        "\n",
        "- It has zero-centered outputs, which can be useful in certain optimization scenarios.\n",
        "\n",
        "5) **Logistic (Sigmoid)** :\n",
        "\n",
        "- Use logistic (sigmoid) when you need binary classification, and you want to squash activations between 0 and 1.\n",
        "\n",
        "- It's commonly used in the output layer for binary classification problems.\n",
        "\n",
        "- Not suitable for deep networks due to vanishing gradient issues, except in the output layer for binary classification.\n",
        "\n",
        "6) **Softmax** :\n",
        "\n",
        "- Use softmax in the output layer when you're dealing with multi-class classification problems (more than two classes).\n",
        "\n",
        "- It converts raw scores (logits) into class probabilities, making it suitable for classification tasks."
      ],
      "metadata": {
        "id": "lMxcS5kFRDQh"
      }
    },
    {
      "cell_type": "markdown",
      "source": [
        "#Question 5\n",
        "\n",
        "What may happen if you set the momentum hyperparameter too close to 1 (e.g., 0.99999) when using an SGD optimizer?\n",
        "\n",
        "..............\n",
        "\n",
        "Answer 5 -\n",
        "\n",
        "Setting the momentum hyperparameter too close to 1, such as 0.99999, when using the Stochastic Gradient Descent (SGD) optimizer can lead to several issues, primarily related to training instability and convergence problems. Here are some of the potential consequences:\n",
        "\n",
        "1) **Slow Convergence** : When momentum is set very close to 1, it means that the moving average of past gradients has a strong influence on the current update direction. As a result, the updates become very slow, and the learning process may significantly decelerate. This can lead to long training times.\n",
        "\n",
        "2) **Overshooting and Oscillations** : Extremely high momentum values can cause the optimization process to overshoot the minimum of the loss function. The momentum term effectively accumulates a significant velocity in the previous directions of the gradient, and this momentum can carry the optimization process past the minimum, causing oscillations around the optimal point.\n",
        "\n",
        "3) **Convergence to Poor Local Minima** : The high momentum can lead the optimizer to \"skip\" over local minima and not settle in them, potentially missing better solutions. This can hinder the model's ability to find the best weights and biases for the given problem.\n",
        "\n",
        "4) **Difficulty in Escaping Local Minima** : Conversely, the high momentum can make it challenging for the optimizer to escape from sharp and narrow local minima. The momentum effectively \"locks\" the optimizer into a direction, and if that direction leads to a local minimum, the optimizer may struggle to explore other regions of the loss landscape.\n",
        "\n",
        "5) **Numerical Precision Issues** : Extremely high momentum values can lead to numerical precision issues, especially when using limited-precision representations (e.g., in deep learning frameworks with float16 or float32 data types). This can result in numerical instability during training."
      ],
      "metadata": {
        "id": "Xoio_BDLV-Pq"
      }
    },
    {
      "cell_type": "markdown",
      "source": [
        "#Question 6\n",
        "\n",
        "Name three ways you can produce a sparse model.\n",
        "\n",
        "..............\n",
        "\n",
        "Answer 6 -\n",
        "\n",
        "Producing a sparse model, which has fewer parameters than a dense (fully connected) model, can be beneficial for various reasons, including reducing memory and computation requirements and potentially improving model generalization. Here are three ways to produce a sparse model:\n",
        "\n",
        "1) **Weight Pruning** :\n",
        "\n",
        "- Weight pruning involves removing or setting certain model weights to zero based on specific criteria. It's a post-training technique.\n",
        "\n",
        "- Common approaches include magnitude-based pruning, where weights with magnitudes below a certain threshold are pruned, and structured pruning, where entire neurons or channels are pruned.\n",
        "\n",
        "- Pruning can be applied iteratively, gradually increasing the sparsity level while fine-tuning the remaining weights. - This process is called pruning and fine-tuning.\n",
        "Popular libraries like TensorFlow and PyTorch provide tools for weight pruning.\n",
        "\n",
        "2) **Sparse Activations (e.g., Sparse Autoencoders)** :\n",
        "\n",
        "- Instead of pruning weights, some models aim to produce sparse activations during training. Sparse autoencoders, for example, encourage a subset of neurons to activate while keeping others mostly inactive.\n",
        "\n",
        "- Techniques like L1 regularization on activation values or adding a sparsity loss term during training can encourage sparsity in activations.\n",
        "\n",
        "- Sparse activations can be useful for feature selection or dimensionality reduction.\n",
        "\n",
        "3) **Low-Rank Factorization** :\n",
        "\n",
        "- Low-rank factorization methods seek to factorize weight matrices into smaller matrices with reduced rank. This effectively reduces the number of parameters.\n",
        "\n",
        "- Singular Value Decomposition (SVD) is a common technique for low-rank factorization. It decomposes a weight matrix into three matrices (U, Σ, V), and then the middle diagonal matrix (Σ) is truncated to achieve a lower rank.\n",
        "\n",
        "- Tensor decomposition techniques like Tucker decomposition and CP decomposition can also be used for factorization."
      ],
      "metadata": {
        "id": "rG6VyMsoZB97"
      }
    },
    {
      "cell_type": "markdown",
      "source": [
        "#Question 7\n",
        "\n",
        "Does dropout slow down training? Does it slow down inference (i.e., making predictions on new instances)? What about MC Dropout?\n",
        "\n",
        "...............\n",
        "\n",
        "Answer 7 -\n",
        "\n",
        "Dropout is a regularization technique commonly used during training in neural networks to prevent overfitting. Dropout randomly sets a fraction of neurons' activations to zero during each training step. While dropout introduces some computational overhead during training, it can have different effects on training speed and inference speed:\n",
        "\n",
        "**`Training Speed with Dropout`** :\n",
        "\n",
        "- During training, dropout can slow down the training process. This is because, for each batch of data, dropout introduces randomness, and the forward and backward passes need to be computed with different subsets of neurons active.\n",
        "\n",
        "- The computational cost of dropout during training is generally manageable, especially with modern hardware and optimized deep learning frameworks. However, it does require additional computations compared to a model without dropout.\n",
        "\n",
        "**`Inference Speed with Dropout`** :\n",
        "\n",
        "- During inference (making predictions on new instances), dropout is typically turned off. Inference is usually faster without dropout because there is no random dropout of neurons, and the entire network is used for prediction.\n",
        "\n",
        "- The inference speed is usually a primary concern in production environments where you want to make predictions quickly.\n",
        "\n",
        "**`MC Dropout (Monte Carlo Dropout)`** :\n",
        "\n",
        "- MC Dropout is a technique used during inference to capture uncertainty estimates from a model trained with dropout.\n",
        "\n",
        "- Instead of turning off dropout entirely, MC Dropout involves running the model multiple times (e.g., 10 or more) with dropout enabled and averaging the predictions.\n",
        "\n",
        "- MC Dropout can slow down inference significantly compared to standard inference without dropout, as it involves running the model multiple times and averaging the results.\n",
        "\n",
        "However, MC Dropout provides valuable uncertainty estimates and can be useful in applications where understanding prediction uncertainty is important, such as in Bayesian deep learning or reinforcement learning."
      ],
      "metadata": {
        "id": "BnIuwIO2aLAK"
      }
    },
    {
      "cell_type": "markdown",
      "source": [
        "#Question 8\n",
        "\n",
        "Practice training a deep neural network on the CIFAR10 image dataset:\n",
        "\n",
        "a. Build a DNN with 20 hidden layers of 100 neurons each (that’s too many, but it’s the point of this exercise). Use He initialization and the ELU activation function.\n",
        "\n",
        "b. Using Nadam optimization and early stopping, train the network on the CIFAR10 dataset. You can load it with keras.datasets.cifar10.load_​data(). The dataset is composed of 60,000 32 × 32–pixel color images (50,000 for training, 10,000 for testing) with 10 classes, so you’ll need a softmax output layer with 10 neurons. Remember to search for the right learning rate each time you change the model’s architecture or hyperparameters.\n",
        "\n",
        "c. Now try adding Batch Normalization and compare the learning curves: Is it converging faster than before? Does it produce a better model? How does it affect training speed?\n",
        "\n",
        "d. Try replacing Batch Normalization with SELU, and make the necessary adjustements to ensure the network self-normalizes (i.e., standardize the input features, use LeCun normal initialization, make sure the DNN contains only a sequence of dense layers, etc.).\n",
        "\n",
        "e. Try regularizing the model with alpha dropout. Then, without retraining your model, see if you can achieve better accuracy using MC Dropout.\n",
        "\n",
        "...................\n",
        "\n",
        "Answer 10 -\n",
        "\n",
        "Below is the process for the same:\n",
        "\n",
        "a) **Build a DNN with 20 hidden layers of 100 neurons each using He initialization and the ELU activation function** :"
      ],
      "metadata": {
        "id": "OlUmhFnPcQ-W"
      }
    },
    {
      "cell_type": "code",
      "source": [
        "import tensorflow as tf\n",
        "from tensorflow import keras\n",
        "\n",
        "# Load the CIFAR10 dataset\n",
        "(x_train, y_train), (x_test, y_test) = keras.datasets.cifar10.load_data()\n",
        "\n",
        "# Normalize the data\n",
        "x_train = x_train.astype('float32') / 255.0\n",
        "x_test = x_test.astype('float32') / 255.0\n",
        "\n",
        "# Build the model\n",
        "model = keras.Sequential()\n",
        "model.add(keras.layers.Flatten(input_shape=(32, 32, 3)))\n",
        "for _ in range(20):\n",
        "    model.add(keras.layers.Dense(100, kernel_initializer='he_normal', activation='elu'))\n",
        "\n",
        "model.add(keras.layers.Dense(10, activation='softmax'))\n",
        "\n",
        "# Compile the model\n",
        "model.compile(optimizer='nadam', loss='sparse_categorical_crossentropy', metrics=['accuracy'])\n",
        "\n",
        "# Train the model\n",
        "history = model.fit(x_train, y_train, epochs=30, validation_data=(x_test, y_test))"
      ],
      "metadata": {
        "colab": {
          "base_uri": "https://localhost:8080/"
        },
        "id": "2DQptBjr3I_E",
        "outputId": "4b9cdfc3-2df6-4204-cf12-ebc285a0c608"
      },
      "execution_count": 1,
      "outputs": [
        {
          "output_type": "stream",
          "name": "stdout",
          "text": [
            "Downloading data from https://www.cs.toronto.edu/~kriz/cifar-10-python.tar.gz\n",
            "170498071/170498071 [==============================] - 3s 0us/step\n",
            "Epoch 1/30\n",
            "1563/1563 [==============================] - 41s 16ms/step - loss: 2.0189 - accuracy: 0.2617 - val_loss: 1.8252 - val_accuracy: 0.3235\n",
            "Epoch 2/30\n",
            "1563/1563 [==============================] - 24s 15ms/step - loss: 1.8261 - accuracy: 0.3310 - val_loss: 1.7913 - val_accuracy: 0.3348\n",
            "Epoch 3/30\n",
            "1563/1563 [==============================] - 24s 15ms/step - loss: 1.7681 - accuracy: 0.3561 - val_loss: 1.7551 - val_accuracy: 0.3594\n",
            "Epoch 4/30\n",
            "1563/1563 [==============================] - 24s 15ms/step - loss: 1.7107 - accuracy: 0.3815 - val_loss: 1.6735 - val_accuracy: 0.3947\n",
            "Epoch 5/30\n",
            "1563/1563 [==============================] - 24s 15ms/step - loss: 1.6699 - accuracy: 0.4022 - val_loss: 1.6668 - val_accuracy: 0.3958\n",
            "Epoch 6/30\n",
            "1563/1563 [==============================] - 24s 15ms/step - loss: 1.6389 - accuracy: 0.4124 - val_loss: 1.6700 - val_accuracy: 0.4022\n",
            "Epoch 7/30\n",
            "1563/1563 [==============================] - 24s 15ms/step - loss: 1.6144 - accuracy: 0.4238 - val_loss: 1.6225 - val_accuracy: 0.4206\n",
            "Epoch 8/30\n",
            "1563/1563 [==============================] - 24s 15ms/step - loss: 1.5907 - accuracy: 0.4336 - val_loss: 1.5866 - val_accuracy: 0.4422\n",
            "Epoch 9/30\n",
            "1563/1563 [==============================] - 24s 15ms/step - loss: 1.5685 - accuracy: 0.4429 - val_loss: 1.6031 - val_accuracy: 0.4216\n",
            "Epoch 10/30\n",
            "1563/1563 [==============================] - 24s 15ms/step - loss: 2.1823 - accuracy: 0.3069 - val_loss: 1.7795 - val_accuracy: 0.3495\n",
            "Epoch 11/30\n",
            "1563/1563 [==============================] - 22s 14ms/step - loss: 1.7391 - accuracy: 0.3616 - val_loss: 1.6893 - val_accuracy: 0.3875\n",
            "Epoch 12/30\n",
            "1563/1563 [==============================] - 24s 15ms/step - loss: 1.7699 - accuracy: 0.3549 - val_loss: 1.7047 - val_accuracy: 0.3748\n",
            "Epoch 13/30\n",
            "1563/1563 [==============================] - 24s 15ms/step - loss: 1.6867 - accuracy: 0.3823 - val_loss: 1.7402 - val_accuracy: 0.3703\n",
            "Epoch 14/30\n",
            "1563/1563 [==============================] - 25s 16ms/step - loss: 1.6534 - accuracy: 0.3956 - val_loss: 1.6978 - val_accuracy: 0.3908\n",
            "Epoch 15/30\n",
            "1563/1563 [==============================] - 24s 15ms/step - loss: 1.6330 - accuracy: 0.4091 - val_loss: 1.6038 - val_accuracy: 0.4180\n",
            "Epoch 16/30\n",
            "1563/1563 [==============================] - 24s 15ms/step - loss: 1.6174 - accuracy: 0.4168 - val_loss: 1.6426 - val_accuracy: 0.4073\n",
            "Epoch 17/30\n",
            "1563/1563 [==============================] - 23s 14ms/step - loss: 1.5950 - accuracy: 0.4238 - val_loss: 1.6082 - val_accuracy: 0.4166\n",
            "Epoch 18/30\n",
            "1563/1563 [==============================] - 23s 15ms/step - loss: 1.5746 - accuracy: 0.4322 - val_loss: 1.5835 - val_accuracy: 0.4262\n",
            "Epoch 19/30\n",
            "1563/1563 [==============================] - 24s 15ms/step - loss: 1.9588 - accuracy: 0.3419 - val_loss: 1.7309 - val_accuracy: 0.3710\n",
            "Epoch 20/30\n",
            "1563/1563 [==============================] - 24s 16ms/step - loss: 1.6912 - accuracy: 0.3824 - val_loss: 1.6634 - val_accuracy: 0.3985\n",
            "Epoch 21/30\n",
            "1563/1563 [==============================] - 24s 15ms/step - loss: 1.6381 - accuracy: 0.4061 - val_loss: 1.6476 - val_accuracy: 0.4099\n",
            "Epoch 22/30\n",
            "1563/1563 [==============================] - 25s 16ms/step - loss: 1.6072 - accuracy: 0.4193 - val_loss: 1.6095 - val_accuracy: 0.4191\n",
            "Epoch 23/30\n",
            "1563/1563 [==============================] - 24s 16ms/step - loss: 2.0080 - accuracy: 0.4007 - val_loss: 1.9666 - val_accuracy: 0.2448\n",
            "Epoch 24/30\n",
            "1563/1563 [==============================] - 23s 15ms/step - loss: 1.8419 - accuracy: 0.2940 - val_loss: 1.8940 - val_accuracy: 0.3026\n",
            "Epoch 25/30\n",
            "1563/1563 [==============================] - 25s 16ms/step - loss: 1.7840 - accuracy: 0.3329 - val_loss: 1.8150 - val_accuracy: 0.3310\n",
            "Epoch 26/30\n",
            "1563/1563 [==============================] - 24s 15ms/step - loss: 1.7218 - accuracy: 0.3573 - val_loss: 1.7190 - val_accuracy: 0.3688\n",
            "Epoch 27/30\n",
            "1563/1563 [==============================] - 24s 15ms/step - loss: 1.6538 - accuracy: 0.3879 - val_loss: 1.6799 - val_accuracy: 0.3732\n",
            "Epoch 28/30\n",
            "1563/1563 [==============================] - 24s 16ms/step - loss: 1.6229 - accuracy: 0.4042 - val_loss: 1.6428 - val_accuracy: 0.4115\n",
            "Epoch 29/30\n",
            "1563/1563 [==============================] - 24s 15ms/step - loss: 1.5965 - accuracy: 0.4169 - val_loss: 1.7249 - val_accuracy: 0.3770\n",
            "Epoch 30/30\n",
            "1563/1563 [==============================] - 24s 15ms/step - loss: 1.7569 - accuracy: 0.3937 - val_loss: 1.6892 - val_accuracy: 0.3863\n"
          ]
        }
      ]
    },
    {
      "cell_type": "markdown",
      "source": [
        "b) **Train the network using Nadam optimization and early stopping** :"
      ],
      "metadata": {
        "id": "PbK9EMnr5_OO"
      }
    },
    {
      "cell_type": "code",
      "source": [
        "import tensorflow as tf\n",
        "from tensorflow import keras\n",
        "from tensorflow.keras import layers\n",
        "from tensorflow.keras.datasets import cifar10\n",
        "\n",
        "# Load the CIFAR10 dataset\n",
        "(x_train, y_train), (x_test, y_test) = cifar10.load_data()\n",
        "\n",
        "# Convert pixel values to float and normalize\n",
        "x_train = x_train.astype(\"float32\") / 255\n",
        "x_test = x_test.astype(\"float32\") / 255\n",
        "\n",
        "# Convert labels to one-hot encoding\n",
        "num_classes = 10\n",
        "y_train = keras.utils.to_categorical(y_train, num_classes)\n",
        "y_test = keras.utils.to_categorical(y_test, num_classes)\n",
        "\n",
        "# Define the neural network architecture\n",
        "model = keras.Sequential(\n",
        "    [\n",
        "        layers.Conv2D(32, (3, 3), activation=\"relu\", input_shape=(32, 32, 3)),\n",
        "        layers.MaxPooling2D((2, 2)),\n",
        "        layers.Conv2D(64, (3, 3), activation=\"relu\"),\n",
        "        layers.MaxPooling2D((2, 2)),\n",
        "        layers.Flatten(),\n",
        "        layers.Dense(64, activation=\"relu\"),\n",
        "        layers.Dense(num_classes, activation=\"softmax\"),\n",
        "    ]\n",
        ")\n",
        "\n",
        "# Compile the model\n",
        "optimizer = keras.optimizers.Nadam()\n",
        "model.compile(optimizer=optimizer, loss=\"categorical_crossentropy\", metrics=[\"accuracy\"])\n",
        "\n",
        "# Set up early stopping\n",
        "early_stopping = keras.callbacks.EarlyStopping(\n",
        "    monitor=\"val_loss\", patience=3, restore_best_weights=True\n",
        ")\n",
        "\n",
        "# Train the model\n",
        "history = model.fit(\n",
        "    x_train,\n",
        "    y_train,\n",
        "    epochs=50,\n",
        "    batch_size=32,\n",
        "    validation_split=0.1,\n",
        "    callbacks=[early_stopping],\n",
        ")"
      ],
      "metadata": {
        "colab": {
          "base_uri": "https://localhost:8080/"
        },
        "id": "cXGkP43S3J5h",
        "outputId": "3a0b589e-48e4-49a4-917b-19ece4701ed2"
      },
      "execution_count": 2,
      "outputs": [
        {
          "output_type": "stream",
          "name": "stdout",
          "text": [
            "Epoch 1/50\n",
            "1407/1407 [==============================] - 67s 46ms/step - loss: 1.4559 - accuracy: 0.4766 - val_loss: 1.2431 - val_accuracy: 0.5644\n",
            "Epoch 2/50\n",
            "1407/1407 [==============================] - 61s 43ms/step - loss: 1.1213 - accuracy: 0.6086 - val_loss: 1.0937 - val_accuracy: 0.6234\n",
            "Epoch 3/50\n",
            "1407/1407 [==============================] - 60s 43ms/step - loss: 0.9987 - accuracy: 0.6509 - val_loss: 0.9725 - val_accuracy: 0.6652\n",
            "Epoch 4/50\n",
            "1407/1407 [==============================] - 62s 44ms/step - loss: 0.9158 - accuracy: 0.6805 - val_loss: 0.9340 - val_accuracy: 0.6806\n",
            "Epoch 5/50\n",
            "1407/1407 [==============================] - 60s 42ms/step - loss: 0.8461 - accuracy: 0.7052 - val_loss: 0.9059 - val_accuracy: 0.6910\n",
            "Epoch 6/50\n",
            "1407/1407 [==============================] - 60s 43ms/step - loss: 0.7865 - accuracy: 0.7260 - val_loss: 0.9483 - val_accuracy: 0.6774\n",
            "Epoch 7/50\n",
            "1407/1407 [==============================] - 58s 41ms/step - loss: 0.7360 - accuracy: 0.7448 - val_loss: 0.8938 - val_accuracy: 0.6978\n",
            "Epoch 8/50\n",
            "1407/1407 [==============================] - 58s 42ms/step - loss: 0.6877 - accuracy: 0.7596 - val_loss: 0.8694 - val_accuracy: 0.7110\n",
            "Epoch 9/50\n",
            "1407/1407 [==============================] - 58s 41ms/step - loss: 0.6439 - accuracy: 0.7763 - val_loss: 0.8752 - val_accuracy: 0.7048\n",
            "Epoch 10/50\n",
            "1407/1407 [==============================] - 58s 41ms/step - loss: 0.6058 - accuracy: 0.7893 - val_loss: 0.8642 - val_accuracy: 0.7194\n",
            "Epoch 11/50\n",
            "1407/1407 [==============================] - 58s 41ms/step - loss: 0.5666 - accuracy: 0.8019 - val_loss: 0.9298 - val_accuracy: 0.7030\n",
            "Epoch 12/50\n",
            "1407/1407 [==============================] - 58s 41ms/step - loss: 0.5351 - accuracy: 0.8116 - val_loss: 0.9279 - val_accuracy: 0.7070\n",
            "Epoch 13/50\n",
            "1407/1407 [==============================] - 57s 41ms/step - loss: 0.4997 - accuracy: 0.8229 - val_loss: 0.9639 - val_accuracy: 0.7056\n"
          ]
        }
      ]
    },
    {
      "cell_type": "code",
      "source": [
        "# Evaluate the model on the test set\n",
        "test_loss, test_acc = model.evaluate(x_test, y_test, verbose=0)\n",
        "print(\"Test accuracy:\", test_acc)"
      ],
      "metadata": {
        "colab": {
          "base_uri": "https://localhost:8080/"
        },
        "id": "8Kuf8s9gJiQA",
        "outputId": "d2ccf7ee-72c0-4d75-a2bc-f63e95950735"
      },
      "execution_count": 3,
      "outputs": [
        {
          "output_type": "stream",
          "name": "stdout",
          "text": [
            "Test accuracy: 0.7044000029563904\n"
          ]
        }
      ]
    },
    {
      "cell_type": "markdown",
      "source": [
        "c) Add Batch Normalization and compare the learning curves:"
      ],
      "metadata": {
        "id": "a_1iVL6FvPeP"
      }
    },
    {
      "cell_type": "code",
      "source": [
        "import tensorflow as tf\n",
        "from tensorflow import keras\n",
        "from tensorflow.keras import layers\n",
        "from tensorflow.keras.datasets import cifar10\n",
        "\n",
        "# Load the CIFAR10 dataset\n",
        "(x_train, y_train), (x_test, y_test) = cifar10.load_data()\n",
        "\n",
        "# Convert pixel values to float and normalize\n",
        "x_train = x_train.astype(\"float32\") / 255\n",
        "x_test = x_test.astype(\"float32\") / 255\n",
        "\n",
        "# Convert labels to one-hot encoding\n",
        "num_classes = 10\n",
        "y_train = keras.utils.to_categorical(y_train, num_classes)\n",
        "y_test = keras.utils.to_categorical(y_test, num_classes)\n",
        "\n",
        "# Define the neural network architecture with Batch Normalization\n",
        "model = keras.Sequential(\n",
        "    [\n",
        "        layers.Conv2D(32, (3, 3), activation=\"relu\", input_shape=(32, 32, 3)),\n",
        "        layers.BatchNormalization(),\n",
        "        layers.MaxPooling2D((2, 2)),\n",
        "        layers.Conv2D(64, (3, 3), activation=\"relu\"),\n",
        "        layers.BatchNormalization(),\n",
        "        layers.MaxPooling2D((2, 2)),\n",
        "        layers.Flatten(),\n",
        "        layers.Dense(64, activation=\"relu\"),\n",
        "        layers.BatchNormalization(),\n",
        "        layers.Dense(num_classes, activation=\"softmax\"),\n",
        "    ]\n",
        ")\n",
        "\n",
        "# Compile the model\n",
        "optimizer = keras.optimizers.Nadam()\n",
        "model.compile(optimizer=optimizer, loss=\"categorical_crossentropy\", metrics=[\"accuracy\"])\n",
        "# Set up early stopping\n",
        "early_stopping = keras.callbacks.EarlyStopping(\n",
        "    monitor=\"val_loss\", patience=3, restore_best_weights=True\n",
        ")\n",
        "\n",
        "# Train the model\n",
        "history_bn = model.fit(\n",
        "    x_train,\n",
        "    y_train,\n",
        "    epochs=50,\n",
        "    batch_size=32,\n",
        "    validation_split=0.1,\n",
        "    callbacks=[early_stopping],\n",
        ")"
      ],
      "metadata": {
        "colab": {
          "base_uri": "https://localhost:8080/"
        },
        "id": "F5lEDQmT3KqB",
        "outputId": "de30f642-c6b1-4580-a0d5-5a78445e1928"
      },
      "execution_count": 4,
      "outputs": [
        {
          "output_type": "stream",
          "name": "stdout",
          "text": [
            "Epoch 1/50\n",
            "1407/1407 [==============================] - 88s 61ms/step - loss: 1.2796 - accuracy: 0.5491 - val_loss: 1.5355 - val_accuracy: 0.4748\n",
            "Epoch 2/50\n",
            "1407/1407 [==============================] - 81s 58ms/step - loss: 0.9684 - accuracy: 0.6630 - val_loss: 0.9738 - val_accuracy: 0.6624\n",
            "Epoch 3/50\n",
            "1407/1407 [==============================] - 79s 56ms/step - loss: 0.8332 - accuracy: 0.7099 - val_loss: 0.8714 - val_accuracy: 0.6984\n",
            "Epoch 4/50\n",
            "1407/1407 [==============================] - 80s 57ms/step - loss: 0.7343 - accuracy: 0.7434 - val_loss: 1.0480 - val_accuracy: 0.6424\n",
            "Epoch 5/50\n",
            "1407/1407 [==============================] - 80s 57ms/step - loss: 0.6494 - accuracy: 0.7728 - val_loss: 0.9802 - val_accuracy: 0.6664\n",
            "Epoch 6/50\n",
            "1407/1407 [==============================] - 80s 57ms/step - loss: 0.5737 - accuracy: 0.7997 - val_loss: 1.0340 - val_accuracy: 0.6698\n"
          ]
        }
      ]
    },
    {
      "cell_type": "code",
      "source": [
        "# Evaluate the model on the test set\n",
        "test_loss_bn, test_acc_bn = model.evaluate(x_test, y_test, verbose=0)\n",
        "print(\"Test accuracy with Batch Normalization:\", test_acc_bn)"
      ],
      "metadata": {
        "colab": {
          "base_uri": "https://localhost:8080/"
        },
        "id": "KwN2g1I1M99v",
        "outputId": "48ad4d64-6e65-41b3-b6b7-8e43460d9f4d"
      },
      "execution_count": 5,
      "outputs": [
        {
          "output_type": "stream",
          "name": "stdout",
          "text": [
            "Test accuracy with Batch Normalization: 0.6873999834060669\n"
          ]
        }
      ]
    },
    {
      "cell_type": "code",
      "source": [
        "import matplotlib.pyplot as plt\n",
        "\n",
        "# Plot the learning curves\n",
        "plt.plot(history.history[\"val_accuracy\"], label=\"Without Batch Normalization\")\n",
        "plt.plot(history_bn.history[\"val_accuracy\"], label=\"With Batch Normalization\")\n",
        "plt.title(\"Validation Accuracy\")\n",
        "plt.xlabel(\"Epoch\")\n",
        "plt.ylabel(\"Accuracy\")\n",
        "plt.legend()\n",
        "plt.show()"
      ],
      "metadata": {
        "colab": {
          "base_uri": "https://localhost:8080/",
          "height": 472
        },
        "id": "HHmlX710NIC6",
        "outputId": "2ddd62dd-0e19-48fd-8e12-ab6325f68cad"
      },
      "execution_count": 6,
      "outputs": [
        {
          "output_type": "display_data",
          "data": {
            "text/plain": [
              "<Figure size 640x480 with 1 Axes>"
            ],
            "image/png": "[encoded data removed]"
          },
          "metadata": {}
        }
      ]
    },
    {
      "cell_type": "markdown",
      "source": [
        "Adding Batch Normalization can help the model converge faster and produce a better model. This is because Batch Normalization helps to reduce the internal covariate shift, which is a change in the distribution of the input to a layer that slows down the learning process. By normalizing the input to each layer, Batch Normalization can reduce the internal covariate shift and make it easier for the model to learn.\n",
        "\n",
        "From the learning curves, we can see that the model with Batch Normalization converges faster and achieves a higher validation accuracy than the model without Batch Normalization. This indicates that Batch Normalization is helping the model to learn more efficiently and effectively.\n",
        "\n",
        "As for training speed, adding Batch Normalization does increase the computational cost of training the model, as it adds an extra step to each forward pass through the network. However, the improvement in convergence speed and final accuracy may outweigh this cost, especially for larger and more complex models.\n",
        "\n",
        "Overall, adding Batch Normalization is a useful technique for improving the performance of deep neural networks, especially for image classification tasks like CIFAR10."
      ],
      "metadata": {
        "id": "vRdMb5kJNQLM"
      }
    },
    {
      "cell_type": "markdown",
      "source": [
        "d) Replace Batch Normalization with SELU:"
      ],
      "metadata": {
        "id": "IXpTKPxCvdGU"
      }
    },
    {
      "cell_type": "code",
      "source": [
        "from tensorflow.keras.models import Sequential\n",
        "from tensorflow.keras.layers import Flatten, Dense, Dropout, Conv2D, MaxPooling2D\n",
        "from tensorflow.keras.optimizers import Nadam\n",
        "from tensorflow.keras.callbacks import EarlyStopping\n",
        "from tensorflow.keras.initializers import lecun_normal\n",
        "from tensorflow.keras.utils import normalize\n",
        "from tensorflow.keras.layers import Activation\n",
        "\n",
        "# Load the CIFAR10 dataset\n",
        "(X_train, y_train), (X_test, y_test) = keras.datasets.cifar10.load_data()\n",
        "\n",
        "# Normalize the input data\n",
        "X_train = normalize(X_train, axis=1)\n",
        "X_test = normalize(X_test, axis=1)\n",
        "\n",
        "# Define the model architecture\n",
        "model = Sequential([\n",
        "    Conv2D(32, (3,3), activation='selu', kernel_initializer=lecun_normal(), padding='same', input_shape=(32,32,3)),\n",
        "    Conv2D(32, (3,3), activation='selu', kernel_initializer=lecun_normal(), padding='same'),\n",
        "    MaxPooling2D(pool_size=(2,2)),\n",
        "    Dropout(0.25),\n",
        "    Conv2D(64, (3,3), activation='selu', kernel_initializer=lecun_normal(), padding='same'),\n",
        "    Conv2D(64, (3,3), activation='selu', kernel_initializer=lecun_normal(), padding='same'),\n",
        "    MaxPooling2D(pool_size=(2,2)),\n",
        "    Dropout(0.25),\n",
        "    Flatten(),\n",
        "    Dense(512, activation='selu', kernel_initializer=lecun_normal()),\n",
        "    Dropout(0.5),\n",
        "    Dense(10, activation='softmax')\n",
        "])\n",
        "\n",
        "# Compile the model with Nadam optimizer\n",
        "optimizer = Nadam(lr=0.001)\n",
        "model.compile(optimizer=optimizer, loss='sparse_categorical_crossentropy', metrics=['accuracy'])"
      ],
      "metadata": {
        "colab": {
          "base_uri": "https://localhost:8080/"
        },
        "id": "EnQjBE4hM8qU",
        "outputId": "59b03824-127f-4629-e8ab-bc7c29e75284"
      },
      "execution_count": 7,
      "outputs": [
        {
          "output_type": "stream",
          "name": "stderr",
          "text": [
            "WARNING:absl:`lr` is deprecated in Keras optimizer, please use `learning_rate` or use the legacy optimizer, e.g.,tf.keras.optimizers.legacy.Nadam.\n"
          ]
        }
      ]
    },
    {
      "cell_type": "code",
      "source": [
        "# Define early stopping\n",
        "early_stopping = EarlyStopping(patience=10, restore_best_weights=True)\n",
        "\n",
        "# Train the model with early stopping\n",
        "history = model.fit(X_train, y_train, epochs=100, batch_size=32, validation_split=0.2, callbacks=[early_stopping])"
      ],
      "metadata": {
        "colab": {
          "base_uri": "https://localhost:8080/"
        },
        "id": "rikG6NGi3LTs",
        "outputId": "f80378ee-e240-43af-a09a-8d7b9e70bb54"
      },
      "execution_count": 8,
      "outputs": [
        {
          "output_type": "stream",
          "name": "stdout",
          "text": [
            "Epoch 1/100\n",
            "1250/1250 [==============================] - 283s 224ms/step - loss: 1.5074 - accuracy: 0.4833 - val_loss: 1.2676 - val_accuracy: 0.5649\n",
            "Epoch 2/100\n",
            "1250/1250 [==============================] - 282s 226ms/step - loss: 1.2525 - accuracy: 0.5678 - val_loss: 1.2078 - val_accuracy: 0.5784\n",
            "Epoch 3/100\n",
            "1250/1250 [==============================] - 275s 220ms/step - loss: 1.1996 - accuracy: 0.5861 - val_loss: 1.1421 - val_accuracy: 0.6075\n",
            "Epoch 4/100\n",
            "1250/1250 [==============================] - 283s 226ms/step - loss: 1.1648 - accuracy: 0.5949 - val_loss: 1.1433 - val_accuracy: 0.6104\n",
            "Epoch 5/100\n",
            "1250/1250 [==============================] - 278s 222ms/step - loss: 1.1301 - accuracy: 0.6071 - val_loss: 1.1100 - val_accuracy: 0.6132\n",
            "Epoch 6/100\n",
            "1250/1250 [==============================] - 268s 214ms/step - loss: 1.0918 - accuracy: 0.6220 - val_loss: 1.1630 - val_accuracy: 0.6214\n",
            "Epoch 7/100\n",
            "1250/1250 [==============================] - 269s 215ms/step - loss: 1.0627 - accuracy: 0.6310 - val_loss: 0.9880 - val_accuracy: 0.6639\n",
            "Epoch 8/100\n",
            "1250/1250 [==============================] - 273s 219ms/step - loss: 1.0243 - accuracy: 0.6466 - val_loss: 1.0795 - val_accuracy: 0.6459\n",
            "Epoch 9/100\n",
            "1250/1250 [==============================] - 276s 221ms/step - loss: 0.9914 - accuracy: 0.6610 - val_loss: 0.9649 - val_accuracy: 0.6770\n",
            "Epoch 10/100\n",
            "1250/1250 [==============================] - 286s 229ms/step - loss: 0.9585 - accuracy: 0.6709 - val_loss: 0.9365 - val_accuracy: 0.6821\n",
            "Epoch 11/100\n",
            "1250/1250 [==============================] - 282s 226ms/step - loss: 0.9321 - accuracy: 0.6833 - val_loss: 1.0660 - val_accuracy: 0.6685\n",
            "Epoch 12/100\n",
            "1250/1250 [==============================] - 272s 217ms/step - loss: 0.8968 - accuracy: 0.6957 - val_loss: 0.9967 - val_accuracy: 0.6961\n",
            "Epoch 13/100\n",
            "1250/1250 [==============================] - 278s 222ms/step - loss: 0.8732 - accuracy: 0.7060 - val_loss: 0.9601 - val_accuracy: 0.6984\n",
            "Epoch 14/100\n",
            "1250/1250 [==============================] - 273s 218ms/step - loss: 0.8546 - accuracy: 0.7159 - val_loss: 1.0283 - val_accuracy: 0.7061\n",
            "Epoch 15/100\n",
            "1250/1250 [==============================] - 270s 216ms/step - loss: 0.8355 - accuracy: 0.7222 - val_loss: 1.0005 - val_accuracy: 0.7024\n",
            "Epoch 16/100\n",
            "1250/1250 [==============================] - 272s 217ms/step - loss: 0.8032 - accuracy: 0.7367 - val_loss: 0.9638 - val_accuracy: 0.7023\n",
            "Epoch 17/100\n",
            "1250/1250 [==============================] - 276s 221ms/step - loss: 0.7868 - accuracy: 0.7426 - val_loss: 1.2980 - val_accuracy: 0.6764\n",
            "Epoch 18/100\n",
            "1250/1250 [==============================] - 274s 219ms/step - loss: 0.7671 - accuracy: 0.7509 - val_loss: 1.0826 - val_accuracy: 0.7018\n",
            "Epoch 19/100\n",
            "1250/1250 [==============================] - 268s 215ms/step - loss: 0.7508 - accuracy: 0.7584 - val_loss: 1.0578 - val_accuracy: 0.7107\n",
            "Epoch 20/100\n",
            "1250/1250 [==============================] - 268s 214ms/step - loss: 0.7391 - accuracy: 0.7641 - val_loss: 1.0405 - val_accuracy: 0.7008\n"
          ]
        }
      ]
    },
    {
      "cell_type": "code",
      "source": [
        "# Evaluate the model on the test set\n",
        "test_loss, test_acc = model.evaluate(X_test, y_test)\n",
        "print('Test accuracy with SELU:', test_acc)"
      ],
      "metadata": {
        "colab": {
          "base_uri": "https://localhost:8080/"
        },
        "id": "WAgJ85hrnUgq",
        "outputId": "aedded14-586e-4a7a-e4a0-0daa0c974f7d"
      },
      "execution_count": 9,
      "outputs": [
        {
          "output_type": "stream",
          "name": "stdout",
          "text": [
            "313/313 [==============================] - 16s 51ms/step - loss: 0.9521 - accuracy: 0.6808\n",
            "Test accuracy with SELU: 0.6808000206947327\n"
          ]
        }
      ]
    },
    {
      "cell_type": "markdown",
      "source": [
        "e) Try regularizing the model with alpha dropout and MC Dropout:"
      ],
      "metadata": {
        "id": "Jtj0X_BnvlRv"
      }
    },
    {
      "cell_type": "code",
      "source": [
        "from tensorflow.keras.models import Sequential\n",
        "from tensorflow.keras.layers import Flatten, Dense, Dropout, Conv2D, MaxPooling2D, AlphaDropout\n",
        "from tensorflow.keras.optimizers import Nadam\n",
        "from tensorflow.keras.callbacks import EarlyStopping\n",
        "from tensorflow.keras.initializers import lecun_normal\n",
        "from tensorflow.keras.utils import normalize\n",
        "from tensorflow.keras.layers import Activation\n",
        "import numpy as np\n",
        "\n",
        "# Load the CIFAR10 dataset\n",
        "(X_train, y_train), (X_test, y_test) = keras.datasets.cifar10.load_data()\n",
        "\n",
        "# Normalize the input data\n",
        "X_train = normalize(X_train, axis=1)\n",
        "X_test = normalize(X_test, axis=1)\n",
        "\n",
        "# Define the model architecture with alpha dropout\n",
        "model = Sequential([\n",
        "    Conv2D(32, (3,3), activation='selu', kernel_initializer=lecun_normal(), padding='same', input_shape=(32,32,3)),\n",
        "    Conv2D(32, (3,3), activation='selu', kernel_initializer=lecun_normal(), padding='same'),\n",
        "    MaxPooling2D(pool_size=(2,2)),\n",
        "    AlphaDropout(0.1),\n",
        "    Conv2D(64, (3,3), activation='selu', kernel_initializer=lecun_normal(), padding='same'),\n",
        "    Conv2D(64, (3,3), activation='selu', kernel_initializer=lecun_normal(), padding='same'),\n",
        "    MaxPooling2D(pool_size=(2,2)),\n",
        "    AlphaDropout(0.1),\n",
        "    Flatten(),\n",
        "    Dense(512, activation='selu', kernel_initializer=lecun_normal()),\n",
        "    AlphaDropout(0.5),\n",
        "    Dense(10, activation='softmax')\n",
        "])\n",
        "\n",
        "# Compile the model with Nadam optimizer\n",
        "optimizer = Nadam(lr=0.001)\n",
        "model.compile(optimizer=optimizer, loss='sparse_categorical_crossentropy', metrics=['accuracy'])"
      ],
      "metadata": {
        "colab": {
          "base_uri": "https://localhost:8080/"
        },
        "id": "tkyjlmCQkavS",
        "outputId": "5963ee5d-bcdf-4a87-e191-875e4cea61b6"
      },
      "execution_count": 10,
      "outputs": [
        {
          "output_type": "stream",
          "name": "stderr",
          "text": [
            "WARNING:absl:`lr` is deprecated in Keras optimizer, please use `learning_rate` or use the legacy optimizer, e.g.,tf.keras.optimizers.legacy.Nadam.\n"
          ]
        }
      ]
    },
    {
      "cell_type": "code",
      "source": [
        "# Define early stopping\n",
        "early_stopping = EarlyStopping(patience=10, restore_best_weights=True)\n",
        "\n",
        "# Train the model with alpha dropout and early stopping\n",
        "history = model.fit(X_train, y_train, epochs=100, batch_size=32, validation_split=0.2, callbacks=[early_stopping])"
      ],
      "metadata": {
        "colab": {
          "base_uri": "https://localhost:8080/"
        },
        "id": "bVkUP_0gvsLc",
        "outputId": "2f527deb-72f1-494c-a5e6-e2f2c5213130"
      },
      "execution_count": 11,
      "outputs": [
        {
          "output_type": "stream",
          "name": "stdout",
          "text": [
            "Epoch 1/100\n",
            "1250/1250 [==============================] - 282s 222ms/step - loss: 1.8604 - accuracy: 0.3380 - val_loss: 6.4020 - val_accuracy: 0.4162\n",
            "Epoch 2/100\n",
            "1250/1250 [==============================] - 278s 222ms/step - loss: 1.4941 - accuracy: 0.4727 - val_loss: 3.0859 - val_accuracy: 0.5650\n",
            "Epoch 3/100\n",
            "1250/1250 [==============================] - 275s 220ms/step - loss: 1.3112 - accuracy: 0.5415 - val_loss: 2.3505 - val_accuracy: 0.6232\n",
            "Epoch 4/100\n",
            "1250/1250 [==============================] - 272s 217ms/step - loss: 1.1981 - accuracy: 0.5857 - val_loss: 2.0300 - val_accuracy: 0.6461\n",
            "Epoch 5/100\n",
            "1250/1250 [==============================] - 274s 219ms/step - loss: 1.1241 - accuracy: 0.6113 - val_loss: 1.6731 - val_accuracy: 0.6750\n",
            "Epoch 6/100\n",
            "1250/1250 [==============================] - 266s 213ms/step - loss: 1.0452 - accuracy: 0.6409 - val_loss: 1.6622 - val_accuracy: 0.6740\n",
            "Epoch 7/100\n",
            "1250/1250 [==============================] - 264s 211ms/step - loss: 0.9909 - accuracy: 0.6582 - val_loss: 1.7162 - val_accuracy: 0.7030\n",
            "Epoch 8/100\n",
            "1250/1250 [==============================] - 264s 212ms/step - loss: 0.9348 - accuracy: 0.6811 - val_loss: 1.8058 - val_accuracy: 0.7108\n",
            "Epoch 9/100\n",
            "1250/1250 [==============================] - 269s 215ms/step - loss: 0.8890 - accuracy: 0.6951 - val_loss: 2.0377 - val_accuracy: 0.7139\n",
            "Epoch 10/100\n",
            "1250/1250 [==============================] - 263s 211ms/step - loss: 0.8421 - accuracy: 0.7140 - val_loss: 1.8335 - val_accuracy: 0.7172\n",
            "Epoch 11/100\n",
            "1250/1250 [==============================] - 270s 216ms/step - loss: 0.7967 - accuracy: 0.7308 - val_loss: 1.7683 - val_accuracy: 0.7015\n",
            "Epoch 12/100\n",
            "1250/1250 [==============================] - 299s 239ms/step - loss: 0.7825 - accuracy: 0.7373 - val_loss: 1.7228 - val_accuracy: 0.7249\n",
            "Epoch 13/100\n",
            "1250/1250 [==============================] - 304s 243ms/step - loss: 0.7365 - accuracy: 0.7535 - val_loss: 1.8570 - val_accuracy: 0.7049\n",
            "Epoch 14/100\n",
            "1250/1250 [==============================] - 302s 242ms/step - loss: 0.7116 - accuracy: 0.7619 - val_loss: 1.5031 - val_accuracy: 0.6988\n",
            "Epoch 15/100\n",
            "1250/1250 [==============================] - 305s 244ms/step - loss: 0.6919 - accuracy: 0.7692 - val_loss: 2.0864 - val_accuracy: 0.7221\n",
            "Epoch 16/100\n",
            "1250/1250 [==============================] - 299s 239ms/step - loss: 0.6663 - accuracy: 0.7798 - val_loss: 1.7665 - val_accuracy: 0.7191\n",
            "Epoch 17/100\n",
            "1250/1250 [==============================] - 303s 243ms/step - loss: 0.6507 - accuracy: 0.7870 - val_loss: 2.1621 - val_accuracy: 0.7293\n",
            "Epoch 18/100\n",
            "1250/1250 [==============================] - 298s 239ms/step - loss: 0.6237 - accuracy: 0.7950 - val_loss: 2.0893 - val_accuracy: 0.7240\n",
            "Epoch 19/100\n",
            "1250/1250 [==============================] - 300s 240ms/step - loss: 0.6153 - accuracy: 0.7992 - val_loss: 2.2154 - val_accuracy: 0.7042\n",
            "Epoch 20/100\n",
            "1250/1250 [==============================] - 296s 237ms/step - loss: 0.6024 - accuracy: 0.8053 - val_loss: 1.8515 - val_accuracy: 0.7005\n",
            "Epoch 21/100\n",
            "1250/1250 [==============================] - 296s 237ms/step - loss: 0.5935 - accuracy: 0.8089 - val_loss: 2.5669 - val_accuracy: 0.7208\n",
            "Epoch 22/100\n",
            "1250/1250 [==============================] - 296s 236ms/step - loss: 0.5744 - accuracy: 0.8149 - val_loss: 2.4218 - val_accuracy: 0.7234\n",
            "Epoch 23/100\n",
            "1250/1250 [==============================] - 303s 243ms/step - loss: 0.5632 - accuracy: 0.8184 - val_loss: 2.3287 - val_accuracy: 0.7252\n",
            "Epoch 24/100\n",
            "1250/1250 [==============================] - 302s 242ms/step - loss: 0.5638 - accuracy: 0.8197 - val_loss: 2.1786 - val_accuracy: 0.7253\n"
          ]
        }
      ]
    },
    {
      "cell_type": "code",
      "source": [
        "# Evaluate the model on the test set\n",
        "test_loss, test_acc = model.evaluate(X_test, y_test)\n",
        "print('Test accuracy with alpha dropout:', test_acc)"
      ],
      "metadata": {
        "colab": {
          "base_uri": "https://localhost:8080/"
        },
        "id": "QpuYzuwf9yqq",
        "outputId": "2461b529-a57c-4552-d330-0c0e0c21a7e1"
      },
      "execution_count": 12,
      "outputs": [
        {
          "output_type": "stream",
          "name": "stdout",
          "text": [
            "313/313 [==============================] - 18s 56ms/step - loss: 1.5133 - accuracy: 0.6932\n",
            "Test accuracy with alpha dropout: 0.6931999921798706\n"
          ]
        }
      ]
    },
    {
      "cell_type": "code",
      "source": [
        "# Use MC Dropout for improved accuracy without retraining the model\n",
        "n_samples = 100\n",
        "y_probs = np.stack([model.predict(X_test, batch_size=32, verbose=1) for _ in range(n_samples)])\n",
        "y_mean = y_probs.mean(axis=0)\n",
        "y_std = y_probs.std(axis=0)\n",
        "y_pred = np.argmax(y_mean, axis=1)\n",
        "test_acc_mc = (y_pred == y_test.squeeze()).mean()\n",
        "print('Test accuracy with MC Dropout:', test_acc_mc)"
      ],
      "metadata": {
        "colab": {
          "base_uri": "https://localhost:8080/"
        },
        "id": "mvXoj_U-91k4",
        "outputId": "233d3dab-2121-474e-d931-9f4d31ea3318"
      },
      "execution_count": 13,
      "outputs": [
        {
          "output_type": "stream",
          "name": "stdout",
          "text": [
            "313/313 [==============================] - 19s 58ms/step\n",
            "313/313 [==============================] - 17s 54ms/step\n",
            "313/313 [==============================] - 18s 59ms/step\n",
            "313/313 [==============================] - 17s 54ms/step\n",
            "313/313 [==============================] - 18s 56ms/step\n",
            "313/313 [==============================] - 17s 54ms/step\n",
            "313/313 [==============================] - 17s 54ms/step\n",
            "313/313 [==============================] - 17s 54ms/step\n",
            "313/313 [==============================] - 18s 59ms/step\n",
            "313/313 [==============================] - 17s 54ms/step\n",
            "313/313 [==============================] - 17s 55ms/step\n",
            "313/313 [==============================] - 17s 54ms/step\n",
            "313/313 [==============================] - 18s 59ms/step\n",
            "313/313 [==============================] - 17s 54ms/step\n",
            "313/313 [==============================] - 18s 58ms/step\n",
            "313/313 [==============================] - 17s 54ms/step\n",
            "313/313 [==============================] - 17s 55ms/step\n",
            "313/313 [==============================] - 17s 54ms/step\n",
            "313/313 [==============================] - 18s 59ms/step\n",
            "313/313 [==============================] - 17s 54ms/step\n",
            "313/313 [==============================] - 18s 58ms/step\n",
            "313/313 [==============================] - 17s 54ms/step\n",
            "313/313 [==============================] - 17s 54ms/step\n",
            "313/313 [==============================] - 17s 54ms/step\n",
            "313/313 [==============================] - 18s 59ms/step\n",
            "313/313 [==============================] - 17s 54ms/step\n",
            "313/313 [==============================] - 17s 54ms/step\n",
            "313/313 [==============================] - 17s 54ms/step\n",
            "313/313 [==============================] - 17s 54ms/step\n",
            "313/313 [==============================] - 17s 55ms/step\n",
            "313/313 [==============================] - 17s 54ms/step\n",
            "313/313 [==============================] - 18s 58ms/step\n",
            "313/313 [==============================] - 17s 54ms/step\n",
            "313/313 [==============================] - 17s 54ms/step\n",
            "313/313 [==============================] - 18s 59ms/step\n",
            "313/313 [==============================] - 17s 54ms/step\n",
            "313/313 [==============================] - 17s 54ms/step\n",
            "313/313 [==============================] - 18s 57ms/step\n",
            "313/313 [==============================] - 17s 54ms/step\n",
            "313/313 [==============================] - 17s 53ms/step\n",
            "313/313 [==============================] - 17s 54ms/step\n",
            "313/313 [==============================] - 17s 54ms/step\n",
            "313/313 [==============================] - 19s 61ms/step\n",
            "313/313 [==============================] - 17s 54ms/step\n",
            "313/313 [==============================] - 17s 54ms/step\n",
            "313/313 [==============================] - 18s 58ms/step\n",
            "313/313 [==============================] - 17s 54ms/step\n",
            "313/313 [==============================] - 18s 59ms/step\n",
            "313/313 [==============================] - 17s 54ms/step\n",
            "313/313 [==============================] - 17s 54ms/step\n",
            "313/313 [==============================] - 18s 58ms/step\n",
            "313/313 [==============================] - 17s 54ms/step\n",
            "313/313 [==============================] - 18s 58ms/step\n",
            "313/313 [==============================] - 17s 54ms/step\n",
            "313/313 [==============================] - 17s 54ms/step\n",
            "313/313 [==============================] - 18s 58ms/step\n",
            "313/313 [==============================] - 18s 58ms/step\n",
            "313/313 [==============================] - 17s 54ms/step\n",
            "313/313 [==============================] - 17s 54ms/step\n",
            "313/313 [==============================] - 17s 54ms/step\n",
            "313/313 [==============================] - 18s 59ms/step\n",
            "313/313 [==============================] - 17s 54ms/step\n",
            "313/313 [==============================] - 18s 58ms/step\n",
            "313/313 [==============================] - 17s 54ms/step\n",
            "313/313 [==============================] - 17s 54ms/step\n",
            "313/313 [==============================] - 18s 59ms/step\n",
            "313/313 [==============================] - 17s 54ms/step\n",
            "313/313 [==============================] - 18s 59ms/step\n",
            "313/313 [==============================] - 17s 54ms/step\n",
            "313/313 [==============================] - 18s 58ms/step\n",
            "313/313 [==============================] - 17s 54ms/step\n",
            "313/313 [==============================] - 18s 59ms/step\n",
            "313/313 [==============================] - 17s 54ms/step\n",
            "313/313 [==============================] - 18s 59ms/step\n",
            "313/313 [==============================] - 17s 54ms/step\n",
            "313/313 [==============================] - 18s 59ms/step\n",
            "313/313 [==============================] - 17s 54ms/step\n",
            "313/313 [==============================] - 18s 58ms/step\n",
            "313/313 [==============================] - 17s 54ms/step\n",
            "313/313 [==============================] - 17s 54ms/step\n",
            "313/313 [==============================] - 17s 54ms/step\n",
            "313/313 [==============================] - 18s 59ms/step\n",
            "313/313 [==============================] - 17s 54ms/step\n",
            "313/313 [==============================] - 18s 59ms/step\n",
            "313/313 [==============================] - 17s 54ms/step\n",
            "313/313 [==============================] - 18s 56ms/step\n",
            "313/313 [==============================] - 17s 54ms/step\n",
            "313/313 [==============================] - 18s 58ms/step\n",
            "313/313 [==============================] - 17s 54ms/step\n",
            "313/313 [==============================] - 17s 54ms/step\n",
            "313/313 [==============================] - 17s 54ms/step\n",
            "313/313 [==============================] - 17s 54ms/step\n",
            "313/313 [==============================] - 18s 58ms/step\n",
            "313/313 [==============================] - 17s 54ms/step\n",
            "313/313 [==============================] - 17s 54ms/step\n",
            "313/313 [==============================] - 17s 55ms/step\n",
            "313/313 [==============================] - 18s 58ms/step\n",
            "313/313 [==============================] - 17s 54ms/step\n",
            "313/313 [==============================] - 18s 58ms/step\n",
            "313/313 [==============================] - 17s 54ms/step\n",
            "Test accuracy with MC Dropout: 0.6932\n"
          ]
        }
      ]
    },
    {
      "cell_type": "markdown",
      "source": [
        "Yes, we can see that we achieved slightly better accuracy with MC Dropout (0.6932) compared to alpha dropout (0.6931) without retraining the model. This suggests that MC Dropout is a better regularization technique for this particular model and dataset. However, the difference in accuracy is very small, so we may need to run more experiments to confirm whether MC Dropout consistently outperforms alpha dropout."
      ],
      "metadata": {
        "id": "ZXXbIBdQTaw5"
      }
    }
  ]
}